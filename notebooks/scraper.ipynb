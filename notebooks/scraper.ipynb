{
 "cells": [
  {
   "cell_type": "code",
   "execution_count": 1,
   "id": "02b2bfe3",
   "metadata": {
    "execution": {
     "iopub.execute_input": "2022-04-03T17:55:03.855067Z",
     "iopub.status.busy": "2022-04-03T17:55:03.855067Z",
     "iopub.status.idle": "2022-04-03T17:55:04.520378Z",
     "shell.execute_reply": "2022-04-03T17:55:04.520378Z"
    },
    "papermill": {
     "duration": 1.947335,
     "end_time": "2022-04-03T17:51:19.685296",
     "exception": false,
     "start_time": "2022-04-03T17:51:17.737961",
     "status": "completed"
    },
    "tags": []
   },
   "outputs": [],
   "source": [
    "import os\n",
    "from datetime import datetime\n",
    "import requests\n",
    "from requests_html import HTML\n",
    "import pandas as pd\n",
    "import time"
   ]
  },
  {
   "cell_type": "code",
   "execution_count": 2,
   "id": "90efc0c0",
   "metadata": {
    "execution": {
     "iopub.execute_input": "2022-04-03T17:55:04.523374Z",
     "iopub.status.busy": "2022-04-03T17:55:04.523374Z",
     "iopub.status.idle": "2022-04-03T17:55:04.537374Z",
     "shell.execute_reply": "2022-04-03T17:55:04.536376Z"
    },
    "papermill": {
     "duration": 0.025,
     "end_time": "2022-04-03T17:51:19.716294",
     "exception": false,
     "start_time": "2022-04-03T17:51:19.691294",
     "status": "completed"
    },
    "tags": []
   },
   "outputs": [],
   "source": [
    "cwd = os.getcwd()\n",
    "now = datetime.now()\n",
    "timestamps = now.strftime(\"%d/%m/%Y %H:%M:%S\")\n",
    "BASE_DIR = os.path.dirname(cwd)\n",
    "DATA_DIR = os.path.join(BASE_DIR, \"data\")\n",
    "os.makedirs(DATA_DIR, exist_ok=True)"
   ]
  },
  {
   "cell_type": "code",
   "execution_count": 3,
   "id": "53fec503",
   "metadata": {
    "execution": {
     "iopub.execute_input": "2022-04-03T17:55:04.540376Z",
     "iopub.status.busy": "2022-04-03T17:55:04.540376Z",
     "iopub.status.idle": "2022-04-03T17:55:04.552377Z",
     "shell.execute_reply": "2022-04-03T17:55:04.552377Z"
    },
    "papermill": {
     "duration": 0.025016,
     "end_time": "2022-04-03T17:51:19.746312",
     "exception": false,
     "start_time": "2022-04-03T17:51:19.721296",
     "status": "completed"
    },
    "tags": []
   },
   "outputs": [],
   "source": [
    "base_url = \"https://stackoverflow.com/questions/tagged/\"\n",
    "tag = \"python\"\n",
    "query_filter = \"Unanswered\"\n",
    "url = f\"{base_url}{tag}?tab={query_filter}\""
   ]
  },
  {
   "cell_type": "code",
   "execution_count": 4,
   "id": "f5f6396a",
   "metadata": {
    "execution": {
     "iopub.execute_input": "2022-04-03T17:55:04.555376Z",
     "iopub.status.busy": "2022-04-03T17:55:04.555376Z",
     "iopub.status.idle": "2022-04-03T17:55:04.568375Z",
     "shell.execute_reply": "2022-04-03T17:55:04.568375Z"
    },
    "papermill": {
     "duration": 0.025998,
     "end_time": "2022-04-03T17:51:19.777310",
     "exception": false,
     "start_time": "2022-04-03T17:51:19.751312",
     "status": "completed"
    },
    "tags": []
   },
   "outputs": [],
   "source": [
    "def clean_scraped_data(text, keyname=None):\n",
    "    if keyname == \"votes\":\n",
    "        return text.replace(\"\\nvotes\", \"\")\n",
    "    elif keyname == \"tags\":\n",
    "        return text.replace(\"\\n\", \", \")\n",
    "    elif keyname == \"summary\":\n",
    "        return text\n",
    "    return text"
   ]
  },
  {
   "cell_type": "code",
   "execution_count": 5,
   "id": "16c96dbf",
   "metadata": {
    "execution": {
     "iopub.execute_input": "2022-04-03T17:55:04.570377Z",
     "iopub.status.busy": "2022-04-03T17:55:04.570377Z",
     "iopub.status.idle": "2022-04-03T17:55:04.584376Z",
     "shell.execute_reply": "2022-04-03T17:55:04.584376Z"
    },
    "papermill": {
     "duration": 0.025002,
     "end_time": "2022-04-03T17:51:19.808310",
     "exception": false,
     "start_time": "2022-04-03T17:51:19.783308",
     "status": "completed"
    },
    "tags": []
   },
   "outputs": [],
   "source": [
    "def parse_tagged_page(html):\n",
    "    question_summaries = html.find(\".s-post-summary\")\n",
    "    answers_el = html.find(\".s-post-summary--stats-item.has-answers\")\n",
    "    \n",
    "    key_names = [\"question\", \"summary\", \"answers\", \"votes\", \"tags\", \"links\"]\n",
    "    classes_needed = [\".s-link\", \".s-post-summary--content-excerpt\", \".s-post-summary--stats-item.has-answers\", \".s-post-summary--stats-item-number\", \".tags\" ]\n",
    "    datas = []\n",
    "\n",
    "    for q_el in question_summaries:\n",
    "        question_data = {}\n",
    "        for i, cls in enumerate(classes_needed):\n",
    "            keyname = key_names[i]\n",
    "            question_summary_id = q_el.attrs[\"id\"].split(\"-\")[2]\n",
    "            sub_el = q_el.find(cls, first=True)\n",
    "            if keyname == \"answers\":\n",
    "                if sub_el is None:\n",
    "                    question_data[\"answers\"] = 0\n",
    "                else:\n",
    "                    a_sub_el = sub_el.find(\".s-post-summary--stats-item-number\", first=True)\n",
    "                    question_data[\"answers\"] = a_sub_el.text\n",
    "            else:\n",
    "                question_data[keyname] = clean_scraped_data(sub_el.text, keyname=keyname)\n",
    "                question_data[\"links\"] = f\"https://stackoverflow.com/questions/{question_summary_id}\"\n",
    "\n",
    "#         for a_el in answers_el:\n",
    "#             a_sub_el = a_el.find(\".s-post-summary--stats-item-number\", first=True)\n",
    "#             question_data[\"answers\"] = a_sub_el.text\n",
    "\n",
    "        datas.append(question_data)\n",
    "\n",
    "    return datas"
   ]
  },
  {
   "cell_type": "code",
   "execution_count": 6,
   "id": "e990ee4b",
   "metadata": {
    "execution": {
     "iopub.execute_input": "2022-04-03T17:55:04.586380Z",
     "iopub.status.busy": "2022-04-03T17:55:04.586380Z",
     "iopub.status.idle": "2022-04-03T17:55:04.601377Z",
     "shell.execute_reply": "2022-04-03T17:55:04.600376Z"
    },
    "papermill": {
     "duration": 0.023997,
     "end_time": "2022-04-03T17:51:19.839310",
     "exception": false,
     "start_time": "2022-04-03T17:51:19.815313",
     "status": "completed"
    },
    "tags": []
   },
   "outputs": [],
   "source": [
    "def extract_data_from_url(url):\n",
    "    r = requests.get(url)\n",
    "    if r.status_code not in range(200, 299):\n",
    "        return []\n",
    "    html = HTML(html=r.text)\n",
    "    datas = parse_tagged_page(html)\n",
    "\n",
    "    return datas"
   ]
  },
  {
   "cell_type": "code",
   "execution_count": 7,
   "id": "4b03b1ec",
   "metadata": {
    "execution": {
     "iopub.execute_input": "2022-04-03T17:55:04.604379Z",
     "iopub.status.busy": "2022-04-03T17:55:04.603378Z",
     "iopub.status.idle": "2022-04-03T17:55:04.616376Z",
     "shell.execute_reply": "2022-04-03T17:55:04.616376Z"
    },
    "papermill": {
     "duration": 0.024,
     "end_time": "2022-04-03T17:51:19.870309",
     "exception": false,
     "start_time": "2022-04-03T17:51:19.846309",
     "status": "completed"
    },
    "tags": []
   },
   "outputs": [],
   "source": [
    "def scrape_tag(tag=\"python\", query_filter=\"Unanswered\", max_pages=1):\n",
    "    base_url = \"https://stackoverflow.com/questions/tagged/\"\n",
    "    datas = []\n",
    "    \n",
    "    for p in range(max_pages):\n",
    "        url = f\"{base_url}{tag}?tab={query_filter}&page={p + 1}\"\n",
    "        print(url)\n",
    "        datas += extract_data_from_url(url)\n",
    "        time.sleep(1.2)\n",
    "\n",
    "    return datas"
   ]
  },
  {
   "cell_type": "code",
   "execution_count": 8,
   "id": "adb419ce",
   "metadata": {
    "execution": {
     "iopub.execute_input": "2022-04-03T17:55:04.619375Z",
     "iopub.status.busy": "2022-04-03T17:55:04.618376Z",
     "iopub.status.idle": "2022-04-03T17:55:04.631374Z",
     "shell.execute_reply": "2022-04-03T17:55:04.631374Z"
    },
    "papermill": {
     "duration": 0.025999,
     "end_time": "2022-04-03T17:51:19.902309",
     "exception": false,
     "start_time": "2022-04-03T17:51:19.876310",
     "status": "completed"
    },
    "tags": []
   },
   "outputs": [],
   "source": [
    "# scrape_tag(tag=tag, max_pages=1, pagesize=5)"
   ]
  },
  {
   "cell_type": "code",
   "execution_count": 9,
   "id": "a6c0300a",
   "metadata": {
    "execution": {
     "iopub.execute_input": "2022-04-03T17:55:04.634378Z",
     "iopub.status.busy": "2022-04-03T17:55:04.634378Z",
     "iopub.status.idle": "2022-04-03T17:55:04.646374Z",
     "shell.execute_reply": "2022-04-03T17:55:04.646374Z"
    },
    "papermill": {
     "duration": 0.025999,
     "end_time": "2022-04-03T17:51:19.934309",
     "exception": false,
     "start_time": "2022-04-03T17:51:19.908310",
     "status": "completed"
    },
    "tags": []
   },
   "outputs": [],
   "source": [
    "def extract_to_csv(df, output):  \n",
    "    df.to_csv(output, index=False) "
   ]
  },
  {
   "cell_type": "code",
   "execution_count": 10,
   "id": "a8150879",
   "metadata": {
    "execution": {
     "iopub.execute_input": "2022-04-03T17:55:04.648377Z",
     "iopub.status.busy": "2022-04-03T17:55:04.648377Z",
     "iopub.status.idle": "2022-04-03T17:55:04.663375Z",
     "shell.execute_reply": "2022-04-03T17:55:04.662375Z"
    },
    "papermill": {
     "duration": 0.026004,
     "end_time": "2022-04-03T17:51:19.966313",
     "exception": false,
     "start_time": "2022-04-03T17:51:19.940309",
     "status": "completed"
    },
    "tags": []
   },
   "outputs": [],
   "source": [
    "def extract_to_py(df, output):\n",
    "    arr = df.to_dict('records')\n",
    "    arr.insert(0, {\"timestamps\": timestamps})\n",
    "    js_file = open(output, \"w+\", encoding=\"utf-8\")\n",
    "    js_file.write(f\"questions = {str(arr)}\")\n",
    "    js_file.close()"
   ]
  },
  {
   "cell_type": "code",
   "execution_count": 11,
   "id": "cdb82642",
   "metadata": {
    "execution": {
     "iopub.execute_input": "2022-04-03T17:55:04.665375Z",
     "iopub.status.busy": "2022-04-03T17:55:04.665375Z",
     "iopub.status.idle": "2022-04-03T17:55:04.678376Z",
     "shell.execute_reply": "2022-04-03T17:55:04.678376Z"
    },
    "papermill": {
     "duration": 0.023,
     "end_time": "2022-04-03T17:51:19.995312",
     "exception": false,
     "start_time": "2022-04-03T17:51:19.972312",
     "status": "completed"
    },
    "tags": []
   },
   "outputs": [],
   "source": [
    "def extract_data(tags=[\"python\"], max_pages=1):\n",
    "    for tag in tags:\n",
    "        datas = scrape_tag(tag=tag, max_pages=max_pages)\n",
    "        df = pd.DataFrame(datas)\n",
    "        output_dir_csv = os.path.join(DATA_DIR, f\"stackoverflow_{tag}.csv\")\n",
    "        output_dir_py = os.path.join(DATA_DIR, f\"stackoverflow_{tag}.py\")\n",
    "        \n",
    "        extract_to_csv(df, output_dir_csv)\n",
    "        extract_to_py(df, output_dir_py)\n",
    "        \n",
    "    return \"Done\""
   ]
  },
  {
   "cell_type": "code",
   "execution_count": 12,
   "id": "bfbcf154",
   "metadata": {
    "execution": {
     "iopub.execute_input": "2022-04-03T17:55:04.680376Z",
     "iopub.status.busy": "2022-04-03T17:55:04.680376Z",
     "iopub.status.idle": "2022-04-03T17:55:08.417837Z",
     "shell.execute_reply": "2022-04-03T17:55:08.417837Z"
    },
    "papermill": {
     "duration": 4.078516,
     "end_time": "2022-04-03T17:51:24.079826",
     "exception": false,
     "start_time": "2022-04-03T17:51:20.001310",
     "status": "completed"
    },
    "tags": []
   },
   "outputs": [
    {
     "name": "stdout",
     "output_type": "stream",
     "text": [
      "https://stackoverflow.com/questions/tagged/python?tab=Unanswered&page=1\n",
      "https://stackoverflow.com/questions/tagged/javascript?tab=Unanswered&page=1\n"
     ]
    },
    {
     "data": {
      "text/plain": [
       "'Done'"
      ]
     },
     "execution_count": 12,
     "metadata": {},
     "output_type": "execute_result"
    }
   ],
   "source": [
    "extract_data(tags=[\"python\", \"javascript\"], max_pages=1)"
   ]
  },
  {
   "cell_type": "code",
   "execution_count": null,
   "id": "7379e367",
   "metadata": {
    "papermill": {
     "duration": 0.006015,
     "end_time": "2022-04-03T17:51:24.092839",
     "exception": false,
     "start_time": "2022-04-03T17:51:24.086824",
     "status": "completed"
    },
    "tags": []
   },
   "outputs": [],
   "source": []
  }
 ],
 "metadata": {
  "kernelspec": {
   "display_name": "Python 3 (ipykernel)",
   "language": "python",
   "name": "python3"
  },
  "language_info": {
   "codemirror_mode": {
    "name": "ipython",
    "version": 3
   },
   "file_extension": ".py",
   "mimetype": "text/x-python",
   "name": "python",
   "nbconvert_exporter": "python",
   "pygments_lexer": "ipython3",
   "version": "3.10.1"
  },
  "papermill": {
   "default_parameters": {},
   "duration": 8.687382,
   "end_time": "2022-04-03T17:51:24.564584",
   "environment_variables": {},
   "exception": null,
   "input_path": "notebooks/scraper.ipynb",
   "output_path": "notebooks/scraper.ipynb",
   "parameters": {},
   "start_time": "2022-04-03T17:51:15.877202",
   "version": "2.3.4"
  }
 },
 "nbformat": 4,
 "nbformat_minor": 5
}
